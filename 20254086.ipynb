{
 "cells": [
  {
   "cell_type": "code",
   "execution_count": null,
   "metadata": {
    "id": "bTu5MetfV_00"
   },
   "outputs": [],
   "source": [
    "# Code Cell 1\n",
    "!pip install datasets==4.0.0\n",
    "!pip install transformers==4.56.1\n",
    "\n",
    "########## [TODO] Install packages used in your .py file with specified version ############\n",
    "# You must only add code below this line, within this cell.\n",
    "!pip install tqdm"
   ]
  },
  {
   "cell_type": "code",
   "execution_count": null,
   "metadata": {
    "id": "xYtGT3CVs9PM"
   },
   "outputs": [],
   "source": [
    "# Code Cell 2\n",
    "import datasets\n",
    "import transformers\n",
    "print(datasets.__version__)\n",
    "print(transformers.__version__)"
   ]
  },
  {
   "cell_type": "code",
   "execution_count": null,
   "metadata": {
    "id": "_ll7RK8ezZdB"
   },
   "outputs": [],
   "source": [
    "# Code Cell 3 (for train)\n",
    "import os\n",
    "print(os.path.isfile('20254086.py'))\n",
    "!python 20254086.py"
   ]
  },
  {
   "cell_type": "code",
   "execution_count": null,
   "metadata": {
    "colab": {
     "base_uri": "https://localhost:8080/"
    },
    "executionInfo": {
     "elapsed": 5328,
     "status": "ok",
     "timestamp": 1761007128620,
     "user": {
      "displayName": "Sujeong Im (tnwjddla)",
      "userId": "12152231821647606295"
     },
     "user_tz": -540
    },
    "id": "nKSHvyFV6vMv",
    "outputId": "030d8224-6de2-4f91-c5b3-50a125ed1535"
   },
   "outputs": [
    {
     "name": "stdout",
     "output_type": "stream",
     "text": [
      "2.8.0+cu126\n",
      "Using device: cuda\n",
      "Test dataset size: 10000\n",
      "20251234 - Accuracy: 92.43%\n"
     ]
    }
   ],
   "source": [
    "import torch\n",
    "from test import evaluate\n",
    "\n",
    "print(torch.__version__)\n",
    "evaluate('20254086.npy')"
   ]
  },
  {
   "cell_type": "code",
   "execution_count": null,
   "metadata": {
    "id": "3wmV25zE7wZp"
   },
   "outputs": [],
   "source": []
  }
 ],
 "metadata": {
  "accelerator": "GPU",
  "colab": {
   "gpuType": "T4",
   "provenance": [
    {
     "file_id": "1Zj2y8YG6yX6gGh-QPD0cnblKMFXICQRh",
     "timestamp": 1758468798287
    }
   ]
  },
  "kernelspec": {
   "display_name": "Python 3",
   "name": "python3"
  },
  "language_info": {
   "name": "python"
  }
 },
 "nbformat": 4,
 "nbformat_minor": 0
}
